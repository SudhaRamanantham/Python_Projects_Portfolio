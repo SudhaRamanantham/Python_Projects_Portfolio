{
 "cells": [
  {
   "cell_type": "code",
   "execution_count": 3,
   "id": "d56909cd",
   "metadata": {},
   "outputs": [
    {
     "name": "stdout",
     "output_type": "stream",
     "text": [
      "Please hit enter to create an account:\n",
      "Your new account number: 10001\n",
      "Enter your name for account creation: sudha\n",
      "Enter your pin for account creation: 100\n",
      "Enter your name for account verification: sudha\n",
      "Enter your pin for account verification: 100\n",
      "Select an option:\n",
      "    1.Balance\n",
      "    2.Deposit\n",
      "    3.Withdraw\n",
      "    4.Compute interest\n",
      "    5.Exit\n",
      "Enter your choice: 1\n",
      "Current balance in your account: $0.00\n",
      "Enter your choice: 2\n",
      "Enter the amount you want to deposit: $251\n",
      "Amount deposited: $251.00\n",
      "Account balance: $251.00\n",
      "Enter your choice: 3\n",
      "Enter the amount you want to withdraw: $300\n",
      "Balance in your account is not enough.\n",
      "Enter your choice: 30\n",
      "Enter your choice: 3\n",
      "Enter the amount you want to withdraw: $30\n",
      "Amount withdrawn: $30.00\n",
      "Account balance: $221.00\n",
      "Enter your choice: 1\n",
      "Current balance in your account: $221.00\n",
      "Enter your choice: 4\n",
      "Enter the years you want to compute interest: 2\n",
      "Current balance in your account: $221.00\n",
      "You have interest of : 0.09\n",
      "Enter your choice: 5\n",
      "Exiting program. Thank you!!!\n"
     ]
    }
   ],
   "source": [
    "'''Create a savings account that allows the account owner to make deposits\n",
    "and withdrawals as well as unittest the software using Python.'''\n",
    "\n",
    "class SavingsAccount():\n",
    "    name=''\n",
    "    pin=''\n",
    "    accountNumber=10000\n",
    "    balance=0.0\n",
    "    interestRate=0.02\n",
    "    \n",
    "    def getName():\n",
    "        SavingsAccount.name=input('Enter your name for account creation: ')\n",
    "    \n",
    "    def getPin():\n",
    "        SavingsAccount.pin=input('Enter your pin for account creation: ')\n",
    "        \n",
    "    def createAccount(self):\n",
    "        SavingsAccount.accountNumber+=1\n",
    "        print(f'Your new account number: {SavingsAccount.accountNumber}')\n",
    "        SavingsAccount.getName()\n",
    "        SavingsAccount.getPin()\n",
    "        \n",
    "    def verifyInfo(self,uname,upin):\n",
    "        if SavingsAccount.name==uname and SavingsAccount.pin==upin:\n",
    "            return True\n",
    "        elif SavingsAccount.name=='' and SavingsAccount.pin=='':\n",
    "            assert False, 'You don\\'t have an account here, Please create account first.'\n",
    "            return False\n",
    "    \n",
    "    def getBalance(self):\n",
    "        print(f'Current balance in your account: ${SavingsAccount.balance:.2f}')\n",
    "        return SavingsAccount.balance\n",
    "    \n",
    "    def deposit(self):\n",
    "        amount=float(input('Enter the amount you want to deposit: $'))\n",
    "        SavingsAccount.balance+=amount\n",
    "        print(f'Amount deposited: ${amount:.2f}')\n",
    "        print(f'Account balance: ${SavingsAccount.balance:.2f}')\n",
    "        return f'{amount:.2f}'\n",
    "        \n",
    "    def withdraw(self):\n",
    "        amount=float(input('Enter the amount you want to withdraw: $'))\n",
    "        if SavingsAccount.balance>amount:\n",
    "            SavingsAccount.balance-=amount\n",
    "            print(f'Amount withdrawn: ${amount:.2f}')\n",
    "            print(f'Account balance: ${SavingsAccount.balance:.2f}')\n",
    "        else:\n",
    "            print('Balance in your account is not enough.')\n",
    "        return f'{amount:.2f}'\n",
    "            \n",
    "    def computeInterest(self):\n",
    "        time=int(input('Enter the years you want to compute interest: '))\n",
    "        interest=(SavingsAccount.getBalance(self)*SavingsAccount.interestRate*time)/100\n",
    "        print(f'You have interest of : {interest:.2f}')\n",
    "        return f'{interest:.2f}'\n",
    "            \n",
    "#Instantiate an object\n",
    "\n",
    "myObj=SavingsAccount()\n",
    "userInput=input('Please hit enter to create an account:')\n",
    "if userInput=='':\n",
    "    myObj.createAccount()\n",
    "    \n",
    "userName=input('Enter your name for account verification: ')\n",
    "userPin=input('Enter your pin for account verification: ')\n",
    "\n",
    "choice=0\n",
    "if myObj.verifyInfo(userName,userPin):\n",
    "    print('''Select an option:\n",
    "    1.Balance\n",
    "    2.Deposit\n",
    "    3.Withdraw\n",
    "    4.Compute interest\n",
    "    5.Exit''')\n",
    "    while choice!=5:\n",
    "        choice=int(input('Enter your choice: '))\n",
    "        if choice==1:\n",
    "            myObj.getBalance()\n",
    "        elif choice==2:\n",
    "            myObj.deposit()\n",
    "        elif choice==3:\n",
    "            myObj.withdraw()\n",
    "        elif choice==4:\n",
    "            myObj.computeInterest()\n",
    "        elif choice==5:\n",
    "            print('Exiting program. Thank you!!!')\n",
    "else:\n",
    "    print('Your information is invalid.')\n",
    "        \n",
    "    "
   ]
  },
  {
   "cell_type": "code",
   "execution_count": 4,
   "id": "ef3c66fc",
   "metadata": {
    "scrolled": true
   },
   "outputs": [
    {
     "name": "stderr",
     "output_type": "stream",
     "text": [
      "E\n",
      "======================================================================\n",
      "ERROR: C:\\Users\\sudha\\AppData\\Roaming\\jupyter\\runtime\\kernel-3afe9a26-0050-4649-8aee-6a44459aae1f (unittest.loader._FailedTest)\n",
      "----------------------------------------------------------------------\n",
      "AttributeError: module '__main__' has no attribute 'C:\\Users\\sudha\\AppData\\Roaming\\jupyter\\runtime\\kernel-3afe9a26-0050-4649-8aee-6a44459aae1f'\n",
      "\n",
      "----------------------------------------------------------------------\n",
      "Ran 1 test in 0.001s\n",
      "\n",
      "FAILED (errors=1)\n"
     ]
    },
    {
     "ename": "SystemExit",
     "evalue": "True",
     "output_type": "error",
     "traceback": [
      "An exception has occurred, use %tb to see the full traceback.\n",
      "\u001b[1;31mSystemExit\u001b[0m\u001b[1;31m:\u001b[0m True\n"
     ]
    },
    {
     "name": "stderr",
     "output_type": "stream",
     "text": [
      "C:\\Users\\sudha\\anaconda3\\lib\\site-packages\\IPython\\core\\interactiveshell.py:3452: UserWarning: To exit: use 'exit', 'quit', or Ctrl-D.\n",
      "  warn(\"To exit: use 'exit', 'quit', or Ctrl-D.\", stacklevel=1)\n"
     ]
    }
   ],
   "source": [
    "# Unittest \n",
    "\n",
    "import unittest\n",
    "\n",
    "class test_SavingsAccount(unittest.TestCase):\n",
    "    \n",
    "    def setUp(self):\n",
    "        self.test_account=SavingsAccount()\n",
    "        \n",
    "    def test_deposit(self):\n",
    "        self.pre_account_balance=self.test_account.balance\n",
    "        print(f'Previous balance in account: ${self.pre_account_balance:.2f}')\n",
    "        self.assertEqual(self.test_account.deposit(),f'{self.test_account.balance-self.pre_account_balance:.2f}')\n",
    "    \n",
    "    def test_withdarw(self):\n",
    "        self.pre_account_balance=self.test_account.balance\n",
    "        print(f'Previous balance in account: ${self.pre_account_balance:.2f}')\n",
    "        self.assertEqual(self.test_account.withdraw(),f'{self.pre_account_balance-self.test_account.balance:.2f}')\n",
    "        \n",
    "    \n",
    "if __name__=='__main__':\n",
    "    unittest.main()"
   ]
  },
  {
   "cell_type": "code",
   "execution_count": 5,
   "id": "dc3e9fab",
   "metadata": {},
   "outputs": [
    {
     "name": "stderr",
     "output_type": "stream",
     "text": [
      "test_deposit (__main__.test_SavingsAccount) ... "
     ]
    },
    {
     "name": "stdout",
     "output_type": "stream",
     "text": [
      "Previous balance in account: $221.00\n",
      "Enter the amount you want to deposit: $30\n"
     ]
    },
    {
     "name": "stderr",
     "output_type": "stream",
     "text": [
      "ok\n",
      "test_withdarw (__main__.test_SavingsAccount) ... "
     ]
    },
    {
     "name": "stdout",
     "output_type": "stream",
     "text": [
      "Amount deposited: $30.00\n",
      "Account balance: $251.00\n",
      "Previous balance in account: $251.00\n",
      "Enter the amount you want to withdraw: $10\n",
      "Amount withdrawn: $10.00\n",
      "Account balance: $241.00\n"
     ]
    },
    {
     "name": "stderr",
     "output_type": "stream",
     "text": [
      "ok\n",
      "\n",
      "----------------------------------------------------------------------\n",
      "Ran 2 tests in 11.920s\n",
      "\n",
      "OK\n"
     ]
    }
   ],
   "source": [
    "if __name__=='__main__':\n",
    "    unittest.main(argv=['first-argument-is-ignored'],\n",
    "                  exit=False,\n",
    "                  verbosity=2\n",
    "                 )"
   ]
  }
 ],
 "metadata": {
  "kernelspec": {
   "display_name": "Python 3 (ipykernel)",
   "language": "python",
   "name": "python3"
  },
  "language_info": {
   "codemirror_mode": {
    "name": "ipython",
    "version": 3
   },
   "file_extension": ".py",
   "mimetype": "text/x-python",
   "name": "python",
   "nbconvert_exporter": "python",
   "pygments_lexer": "ipython3",
   "version": "3.9.7"
  }
 },
 "nbformat": 4,
 "nbformat_minor": 5
}
