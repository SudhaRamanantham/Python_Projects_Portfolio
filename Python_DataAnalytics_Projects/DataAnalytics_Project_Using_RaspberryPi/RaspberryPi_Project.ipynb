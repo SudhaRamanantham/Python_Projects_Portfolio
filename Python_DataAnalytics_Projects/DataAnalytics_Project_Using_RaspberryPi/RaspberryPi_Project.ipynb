{
 "cells": [
  {
   "cell_type": "code",
   "execution_count": 1,
   "id": "0a07fe0a",
   "metadata": {},
   "outputs": [],
   "source": [
    "import pandas as pd\n",
    "import seaborn as sns\n",
    "from sklearn.linear_model import LinearRegression\n",
    "from sklearn.model_selection import train_test_split\n",
    "import matplotlib.pyplot as plt  "
   ]
  },
  {
   "cell_type": "code",
   "execution_count": 2,
   "id": "b3beb5e1",
   "metadata": {
    "scrolled": true
   },
   "outputs": [
    {
     "data": {
      "text/html": [
       "<div>\n",
       "<style scoped>\n",
       "    .dataframe tbody tr th:only-of-type {\n",
       "        vertical-align: middle;\n",
       "    }\n",
       "\n",
       "    .dataframe tbody tr th {\n",
       "        vertical-align: top;\n",
       "    }\n",
       "\n",
       "    .dataframe thead th {\n",
       "        text-align: right;\n",
       "    }\n",
       "</style>\n",
       "<table border=\"1\" class=\"dataframe\">\n",
       "  <thead>\n",
       "    <tr style=\"text-align: right;\">\n",
       "      <th></th>\n",
       "      <th>created_at</th>\n",
       "      <th>entry_id</th>\n",
       "      <th>field1</th>\n",
       "      <th>latitude</th>\n",
       "      <th>longitude</th>\n",
       "      <th>elevation</th>\n",
       "      <th>status</th>\n",
       "    </tr>\n",
       "  </thead>\n",
       "  <tbody>\n",
       "    <tr>\n",
       "      <th>0</th>\n",
       "      <td>2023-03-05T22:45:49+00:00</td>\n",
       "      <td>1</td>\n",
       "      <td>18.5000</td>\n",
       "      <td>NaN</td>\n",
       "      <td>NaN</td>\n",
       "      <td>NaN</td>\n",
       "      <td>NaN</td>\n",
       "    </tr>\n",
       "    <tr>\n",
       "      <th>1</th>\n",
       "      <td>2023-03-05T22:46:05+00:00</td>\n",
       "      <td>2</td>\n",
       "      <td>18.5000</td>\n",
       "      <td>NaN</td>\n",
       "      <td>NaN</td>\n",
       "      <td>NaN</td>\n",
       "      <td>NaN</td>\n",
       "    </tr>\n",
       "    <tr>\n",
       "      <th>2</th>\n",
       "      <td>2023-03-05T22:46:21+00:00</td>\n",
       "      <td>3</td>\n",
       "      <td>18.5000</td>\n",
       "      <td>NaN</td>\n",
       "      <td>NaN</td>\n",
       "      <td>NaN</td>\n",
       "      <td>NaN</td>\n",
       "    </tr>\n",
       "    <tr>\n",
       "      <th>3</th>\n",
       "      <td>2023-03-05T22:46:37+00:00</td>\n",
       "      <td>4</td>\n",
       "      <td>18.5000</td>\n",
       "      <td>NaN</td>\n",
       "      <td>NaN</td>\n",
       "      <td>NaN</td>\n",
       "      <td>NaN</td>\n",
       "    </tr>\n",
       "    <tr>\n",
       "      <th>4</th>\n",
       "      <td>2023-03-05T22:46:53+00:00</td>\n",
       "      <td>5</td>\n",
       "      <td>18.5000</td>\n",
       "      <td>NaN</td>\n",
       "      <td>NaN</td>\n",
       "      <td>NaN</td>\n",
       "      <td>NaN</td>\n",
       "    </tr>\n",
       "    <tr>\n",
       "      <th>...</th>\n",
       "      <td>...</td>\n",
       "      <td>...</td>\n",
       "      <td>...</td>\n",
       "      <td>...</td>\n",
       "      <td>...</td>\n",
       "      <td>...</td>\n",
       "      <td>...</td>\n",
       "    </tr>\n",
       "    <tr>\n",
       "      <th>29716</th>\n",
       "      <td>2023-03-18T09:58:12+00:00</td>\n",
       "      <td>29717</td>\n",
       "      <td>19.5625</td>\n",
       "      <td>NaN</td>\n",
       "      <td>NaN</td>\n",
       "      <td>NaN</td>\n",
       "      <td>NaN</td>\n",
       "    </tr>\n",
       "    <tr>\n",
       "      <th>29717</th>\n",
       "      <td>2023-03-18T09:58:28+00:00</td>\n",
       "      <td>29718</td>\n",
       "      <td>19.5625</td>\n",
       "      <td>NaN</td>\n",
       "      <td>NaN</td>\n",
       "      <td>NaN</td>\n",
       "      <td>NaN</td>\n",
       "    </tr>\n",
       "    <tr>\n",
       "      <th>29718</th>\n",
       "      <td>2023-03-18T09:58:48+00:00</td>\n",
       "      <td>29719</td>\n",
       "      <td>19.5625</td>\n",
       "      <td>NaN</td>\n",
       "      <td>NaN</td>\n",
       "      <td>NaN</td>\n",
       "      <td>NaN</td>\n",
       "    </tr>\n",
       "    <tr>\n",
       "      <th>29719</th>\n",
       "      <td>2023-03-18T09:59:02+00:00</td>\n",
       "      <td>29720</td>\n",
       "      <td>19.5625</td>\n",
       "      <td>NaN</td>\n",
       "      <td>NaN</td>\n",
       "      <td>NaN</td>\n",
       "      <td>NaN</td>\n",
       "    </tr>\n",
       "    <tr>\n",
       "      <th>29720</th>\n",
       "      <td>2023-03-18T09:59:15+00:00</td>\n",
       "      <td>29721</td>\n",
       "      <td>19.5625</td>\n",
       "      <td>NaN</td>\n",
       "      <td>NaN</td>\n",
       "      <td>NaN</td>\n",
       "      <td>NaN</td>\n",
       "    </tr>\n",
       "  </tbody>\n",
       "</table>\n",
       "<p>29721 rows × 7 columns</p>\n",
       "</div>"
      ],
      "text/plain": [
       "                      created_at  entry_id   field1  latitude  longitude  \\\n",
       "0      2023-03-05T22:45:49+00:00         1  18.5000       NaN        NaN   \n",
       "1      2023-03-05T22:46:05+00:00         2  18.5000       NaN        NaN   \n",
       "2      2023-03-05T22:46:21+00:00         3  18.5000       NaN        NaN   \n",
       "3      2023-03-05T22:46:37+00:00         4  18.5000       NaN        NaN   \n",
       "4      2023-03-05T22:46:53+00:00         5  18.5000       NaN        NaN   \n",
       "...                          ...       ...      ...       ...        ...   \n",
       "29716  2023-03-18T09:58:12+00:00     29717  19.5625       NaN        NaN   \n",
       "29717  2023-03-18T09:58:28+00:00     29718  19.5625       NaN        NaN   \n",
       "29718  2023-03-18T09:58:48+00:00     29719  19.5625       NaN        NaN   \n",
       "29719  2023-03-18T09:59:02+00:00     29720  19.5625       NaN        NaN   \n",
       "29720  2023-03-18T09:59:15+00:00     29721  19.5625       NaN        NaN   \n",
       "\n",
       "       elevation  status  \n",
       "0            NaN     NaN  \n",
       "1            NaN     NaN  \n",
       "2            NaN     NaN  \n",
       "3            NaN     NaN  \n",
       "4            NaN     NaN  \n",
       "...          ...     ...  \n",
       "29716        NaN     NaN  \n",
       "29717        NaN     NaN  \n",
       "29718        NaN     NaN  \n",
       "29719        NaN     NaN  \n",
       "29720        NaN     NaN  \n",
       "\n",
       "[29721 rows x 7 columns]"
      ]
     },
     "execution_count": 2,
     "metadata": {},
     "output_type": "execute_result"
    }
   ],
   "source": [
    "Original_Feeds = pd.read_csv('feeds.csv')\n",
    "Original_Feeds"
   ]
  },
  {
   "cell_type": "code",
   "execution_count": 3,
   "id": "bf1da74d",
   "metadata": {},
   "outputs": [
    {
     "name": "stdout",
     "output_type": "stream",
     "text": [
      "<class 'pandas.core.frame.DataFrame'>\n",
      "RangeIndex: 29721 entries, 0 to 29720\n",
      "Data columns (total 7 columns):\n",
      " #   Column      Non-Null Count  Dtype  \n",
      "---  ------      --------------  -----  \n",
      " 0   created_at  29721 non-null  object \n",
      " 1   entry_id    29721 non-null  int64  \n",
      " 2   field1      29721 non-null  float64\n",
      " 3   latitude    0 non-null      float64\n",
      " 4   longitude   0 non-null      float64\n",
      " 5   elevation   0 non-null      float64\n",
      " 6   status      0 non-null      float64\n",
      "dtypes: float64(5), int64(1), object(1)\n",
      "memory usage: 1.6+ MB\n"
     ]
    }
   ],
   "source": [
    "Original_Feeds.info()"
   ]
  },
  {
   "cell_type": "code",
   "execution_count": 4,
   "id": "975c3434",
   "metadata": {},
   "outputs": [
    {
     "data": {
      "text/plain": [
       "created_at    29721\n",
       "entry_id      29721\n",
       "field1           98\n",
       "latitude          0\n",
       "longitude         0\n",
       "elevation         0\n",
       "status            0\n",
       "dtype: int64"
      ]
     },
     "execution_count": 4,
     "metadata": {},
     "output_type": "execute_result"
    }
   ],
   "source": [
    "Original_Feeds.nunique()"
   ]
  },
  {
   "cell_type": "code",
   "execution_count": 5,
   "id": "68fa95eb",
   "metadata": {},
   "outputs": [
    {
     "data": {
      "text/html": [
       "<div>\n",
       "<style scoped>\n",
       "    .dataframe tbody tr th:only-of-type {\n",
       "        vertical-align: middle;\n",
       "    }\n",
       "\n",
       "    .dataframe tbody tr th {\n",
       "        vertical-align: top;\n",
       "    }\n",
       "\n",
       "    .dataframe thead th {\n",
       "        text-align: right;\n",
       "    }\n",
       "</style>\n",
       "<table border=\"1\" class=\"dataframe\">\n",
       "  <thead>\n",
       "    <tr style=\"text-align: right;\">\n",
       "      <th></th>\n",
       "      <th>created_at</th>\n",
       "      <th>entry_id</th>\n",
       "      <th>field1</th>\n",
       "    </tr>\n",
       "  </thead>\n",
       "  <tbody>\n",
       "    <tr>\n",
       "      <th>0</th>\n",
       "      <td>2023-03-05T22:45:49+00:00</td>\n",
       "      <td>1</td>\n",
       "      <td>18.5</td>\n",
       "    </tr>\n",
       "    <tr>\n",
       "      <th>1</th>\n",
       "      <td>2023-03-05T22:46:05+00:00</td>\n",
       "      <td>2</td>\n",
       "      <td>18.5</td>\n",
       "    </tr>\n",
       "    <tr>\n",
       "      <th>2</th>\n",
       "      <td>2023-03-05T22:46:21+00:00</td>\n",
       "      <td>3</td>\n",
       "      <td>18.5</td>\n",
       "    </tr>\n",
       "    <tr>\n",
       "      <th>3</th>\n",
       "      <td>2023-03-05T22:46:37+00:00</td>\n",
       "      <td>4</td>\n",
       "      <td>18.5</td>\n",
       "    </tr>\n",
       "    <tr>\n",
       "      <th>4</th>\n",
       "      <td>2023-03-05T22:46:53+00:00</td>\n",
       "      <td>5</td>\n",
       "      <td>18.5</td>\n",
       "    </tr>\n",
       "  </tbody>\n",
       "</table>\n",
       "</div>"
      ],
      "text/plain": [
       "                  created_at  entry_id  field1\n",
       "0  2023-03-05T22:45:49+00:00         1    18.5\n",
       "1  2023-03-05T22:46:05+00:00         2    18.5\n",
       "2  2023-03-05T22:46:21+00:00         3    18.5\n",
       "3  2023-03-05T22:46:37+00:00         4    18.5\n",
       "4  2023-03-05T22:46:53+00:00         5    18.5"
      ]
     },
     "execution_count": 5,
     "metadata": {},
     "output_type": "execute_result"
    }
   ],
   "source": [
    "# drop columns with a zero value which we don't use\n",
    "\n",
    "Original_Feeds = Original_Feeds.drop(columns = ['latitude','longitude','elevation','status'])\n",
    "Original_Feeds.head()"
   ]
  },
  {
   "cell_type": "code",
   "execution_count": 6,
   "id": "e1bb4d9d",
   "metadata": {},
   "outputs": [
    {
     "data": {
      "text/html": [
       "<div>\n",
       "<style scoped>\n",
       "    .dataframe tbody tr th:only-of-type {\n",
       "        vertical-align: middle;\n",
       "    }\n",
       "\n",
       "    .dataframe tbody tr th {\n",
       "        vertical-align: top;\n",
       "    }\n",
       "\n",
       "    .dataframe thead th {\n",
       "        text-align: right;\n",
       "    }\n",
       "</style>\n",
       "<table border=\"1\" class=\"dataframe\">\n",
       "  <thead>\n",
       "    <tr style=\"text-align: right;\">\n",
       "      <th></th>\n",
       "      <th>Date_Time_Created</th>\n",
       "      <th>Entry_ID</th>\n",
       "      <th>Actual_Temp</th>\n",
       "    </tr>\n",
       "  </thead>\n",
       "  <tbody>\n",
       "    <tr>\n",
       "      <th>0</th>\n",
       "      <td>2023-03-05T22:45:49+00:00</td>\n",
       "      <td>1</td>\n",
       "      <td>18.5</td>\n",
       "    </tr>\n",
       "    <tr>\n",
       "      <th>1</th>\n",
       "      <td>2023-03-05T22:46:05+00:00</td>\n",
       "      <td>2</td>\n",
       "      <td>18.5</td>\n",
       "    </tr>\n",
       "    <tr>\n",
       "      <th>2</th>\n",
       "      <td>2023-03-05T22:46:21+00:00</td>\n",
       "      <td>3</td>\n",
       "      <td>18.5</td>\n",
       "    </tr>\n",
       "    <tr>\n",
       "      <th>3</th>\n",
       "      <td>2023-03-05T22:46:37+00:00</td>\n",
       "      <td>4</td>\n",
       "      <td>18.5</td>\n",
       "    </tr>\n",
       "    <tr>\n",
       "      <th>4</th>\n",
       "      <td>2023-03-05T22:46:53+00:00</td>\n",
       "      <td>5</td>\n",
       "      <td>18.5</td>\n",
       "    </tr>\n",
       "  </tbody>\n",
       "</table>\n",
       "</div>"
      ],
      "text/plain": [
       "           Date_Time_Created  Entry_ID  Actual_Temp\n",
       "0  2023-03-05T22:45:49+00:00         1         18.5\n",
       "1  2023-03-05T22:46:05+00:00         2         18.5\n",
       "2  2023-03-05T22:46:21+00:00         3         18.5\n",
       "3  2023-03-05T22:46:37+00:00         4         18.5\n",
       "4  2023-03-05T22:46:53+00:00         5         18.5"
      ]
     },
     "execution_count": 6,
     "metadata": {},
     "output_type": "execute_result"
    }
   ],
   "source": [
    "# rename columns names\n",
    "\n",
    "Original_Feeds = Original_Feeds.rename(columns = {'created_at':'Date_Time_Created','entry_id':'Entry_ID','field1':'Actual_Temp'})\n",
    "Original_Feeds.head()"
   ]
  },
  {
   "cell_type": "code",
   "execution_count": 7,
   "id": "27d6e6dd",
   "metadata": {},
   "outputs": [
    {
     "data": {
      "text/html": [
       "<div>\n",
       "<style scoped>\n",
       "    .dataframe tbody tr th:only-of-type {\n",
       "        vertical-align: middle;\n",
       "    }\n",
       "\n",
       "    .dataframe tbody tr th {\n",
       "        vertical-align: top;\n",
       "    }\n",
       "\n",
       "    .dataframe thead th {\n",
       "        text-align: right;\n",
       "    }\n",
       "</style>\n",
       "<table border=\"1\" class=\"dataframe\">\n",
       "  <thead>\n",
       "    <tr style=\"text-align: right;\">\n",
       "      <th></th>\n",
       "      <th>Date_Time_Created</th>\n",
       "      <th>Entry_ID</th>\n",
       "      <th>Actual_Temp</th>\n",
       "      <th>Days_Of_Week</th>\n",
       "    </tr>\n",
       "  </thead>\n",
       "  <tbody>\n",
       "    <tr>\n",
       "      <th>0</th>\n",
       "      <td>2023-03-05 22:45:49+00:00</td>\n",
       "      <td>1</td>\n",
       "      <td>18.5000</td>\n",
       "      <td>Sunday</td>\n",
       "    </tr>\n",
       "    <tr>\n",
       "      <th>1</th>\n",
       "      <td>2023-03-05 22:46:05+00:00</td>\n",
       "      <td>2</td>\n",
       "      <td>18.5000</td>\n",
       "      <td>Sunday</td>\n",
       "    </tr>\n",
       "    <tr>\n",
       "      <th>2</th>\n",
       "      <td>2023-03-05 22:46:21+00:00</td>\n",
       "      <td>3</td>\n",
       "      <td>18.5000</td>\n",
       "      <td>Sunday</td>\n",
       "    </tr>\n",
       "    <tr>\n",
       "      <th>3</th>\n",
       "      <td>2023-03-05 22:46:37+00:00</td>\n",
       "      <td>4</td>\n",
       "      <td>18.5000</td>\n",
       "      <td>Sunday</td>\n",
       "    </tr>\n",
       "    <tr>\n",
       "      <th>4</th>\n",
       "      <td>2023-03-05 22:46:53+00:00</td>\n",
       "      <td>5</td>\n",
       "      <td>18.5000</td>\n",
       "      <td>Sunday</td>\n",
       "    </tr>\n",
       "    <tr>\n",
       "      <th>...</th>\n",
       "      <td>...</td>\n",
       "      <td>...</td>\n",
       "      <td>...</td>\n",
       "      <td>...</td>\n",
       "    </tr>\n",
       "    <tr>\n",
       "      <th>29716</th>\n",
       "      <td>2023-03-18 09:58:12+00:00</td>\n",
       "      <td>29717</td>\n",
       "      <td>19.5625</td>\n",
       "      <td>Saturday</td>\n",
       "    </tr>\n",
       "    <tr>\n",
       "      <th>29717</th>\n",
       "      <td>2023-03-18 09:58:28+00:00</td>\n",
       "      <td>29718</td>\n",
       "      <td>19.5625</td>\n",
       "      <td>Saturday</td>\n",
       "    </tr>\n",
       "    <tr>\n",
       "      <th>29718</th>\n",
       "      <td>2023-03-18 09:58:48+00:00</td>\n",
       "      <td>29719</td>\n",
       "      <td>19.5625</td>\n",
       "      <td>Saturday</td>\n",
       "    </tr>\n",
       "    <tr>\n",
       "      <th>29719</th>\n",
       "      <td>2023-03-18 09:59:02+00:00</td>\n",
       "      <td>29720</td>\n",
       "      <td>19.5625</td>\n",
       "      <td>Saturday</td>\n",
       "    </tr>\n",
       "    <tr>\n",
       "      <th>29720</th>\n",
       "      <td>2023-03-18 09:59:15+00:00</td>\n",
       "      <td>29721</td>\n",
       "      <td>19.5625</td>\n",
       "      <td>Saturday</td>\n",
       "    </tr>\n",
       "  </tbody>\n",
       "</table>\n",
       "<p>29721 rows × 4 columns</p>\n",
       "</div>"
      ],
      "text/plain": [
       "              Date_Time_Created  Entry_ID  Actual_Temp Days_Of_Week\n",
       "0     2023-03-05 22:45:49+00:00         1      18.5000       Sunday\n",
       "1     2023-03-05 22:46:05+00:00         2      18.5000       Sunday\n",
       "2     2023-03-05 22:46:21+00:00         3      18.5000       Sunday\n",
       "3     2023-03-05 22:46:37+00:00         4      18.5000       Sunday\n",
       "4     2023-03-05 22:46:53+00:00         5      18.5000       Sunday\n",
       "...                         ...       ...          ...          ...\n",
       "29716 2023-03-18 09:58:12+00:00     29717      19.5625     Saturday\n",
       "29717 2023-03-18 09:58:28+00:00     29718      19.5625     Saturday\n",
       "29718 2023-03-18 09:58:48+00:00     29719      19.5625     Saturday\n",
       "29719 2023-03-18 09:59:02+00:00     29720      19.5625     Saturday\n",
       "29720 2023-03-18 09:59:15+00:00     29721      19.5625     Saturday\n",
       "\n",
       "[29721 rows x 4 columns]"
      ]
     },
     "execution_count": 7,
     "metadata": {},
     "output_type": "execute_result"
    }
   ],
   "source": [
    "# Adding new column 'daysOfWeek' to Original_Feeds\n",
    "\n",
    "Original_Feeds['Date_Time_Created'] = pd.to_datetime(Original_Feeds['Date_Time_Created'])\n",
    "Original_Feeds['Days_Of_Week'] = Original_Feeds['Date_Time_Created'].dt.day_name()\n",
    "Original_Feeds"
   ]
  },
  {
   "cell_type": "code",
   "execution_count": 8,
   "id": "95e0fa25",
   "metadata": {
    "scrolled": true
   },
   "outputs": [
    {
     "data": {
      "text/html": [
       "<div>\n",
       "<style scoped>\n",
       "    .dataframe tbody tr th:only-of-type {\n",
       "        vertical-align: middle;\n",
       "    }\n",
       "\n",
       "    .dataframe tbody tr th {\n",
       "        vertical-align: top;\n",
       "    }\n",
       "\n",
       "    .dataframe thead th {\n",
       "        text-align: right;\n",
       "    }\n",
       "</style>\n",
       "<table border=\"1\" class=\"dataframe\">\n",
       "  <thead>\n",
       "    <tr style=\"text-align: right;\">\n",
       "      <th></th>\n",
       "      <th>Date_Time_Created</th>\n",
       "      <th>Entry_ID</th>\n",
       "      <th>Actual_Temp</th>\n",
       "      <th>Days_Of_Week</th>\n",
       "      <th>Date</th>\n",
       "      <th>Time</th>\n",
       "    </tr>\n",
       "  </thead>\n",
       "  <tbody>\n",
       "    <tr>\n",
       "      <th>0</th>\n",
       "      <td>2023-03-05 22:45:49+00:00</td>\n",
       "      <td>1</td>\n",
       "      <td>18.5000</td>\n",
       "      <td>Sunday</td>\n",
       "      <td>2023-03-05</td>\n",
       "      <td>22:45:49</td>\n",
       "    </tr>\n",
       "    <tr>\n",
       "      <th>1</th>\n",
       "      <td>2023-03-05 22:46:05+00:00</td>\n",
       "      <td>2</td>\n",
       "      <td>18.5000</td>\n",
       "      <td>Sunday</td>\n",
       "      <td>2023-03-05</td>\n",
       "      <td>22:46:05</td>\n",
       "    </tr>\n",
       "    <tr>\n",
       "      <th>2</th>\n",
       "      <td>2023-03-05 22:46:21+00:00</td>\n",
       "      <td>3</td>\n",
       "      <td>18.5000</td>\n",
       "      <td>Sunday</td>\n",
       "      <td>2023-03-05</td>\n",
       "      <td>22:46:21</td>\n",
       "    </tr>\n",
       "    <tr>\n",
       "      <th>3</th>\n",
       "      <td>2023-03-05 22:46:37+00:00</td>\n",
       "      <td>4</td>\n",
       "      <td>18.5000</td>\n",
       "      <td>Sunday</td>\n",
       "      <td>2023-03-05</td>\n",
       "      <td>22:46:37</td>\n",
       "    </tr>\n",
       "    <tr>\n",
       "      <th>4</th>\n",
       "      <td>2023-03-05 22:46:53+00:00</td>\n",
       "      <td>5</td>\n",
       "      <td>18.5000</td>\n",
       "      <td>Sunday</td>\n",
       "      <td>2023-03-05</td>\n",
       "      <td>22:46:53</td>\n",
       "    </tr>\n",
       "    <tr>\n",
       "      <th>...</th>\n",
       "      <td>...</td>\n",
       "      <td>...</td>\n",
       "      <td>...</td>\n",
       "      <td>...</td>\n",
       "      <td>...</td>\n",
       "      <td>...</td>\n",
       "    </tr>\n",
       "    <tr>\n",
       "      <th>29716</th>\n",
       "      <td>2023-03-18 09:58:12+00:00</td>\n",
       "      <td>29717</td>\n",
       "      <td>19.5625</td>\n",
       "      <td>Saturday</td>\n",
       "      <td>2023-03-18</td>\n",
       "      <td>09:58:12</td>\n",
       "    </tr>\n",
       "    <tr>\n",
       "      <th>29717</th>\n",
       "      <td>2023-03-18 09:58:28+00:00</td>\n",
       "      <td>29718</td>\n",
       "      <td>19.5625</td>\n",
       "      <td>Saturday</td>\n",
       "      <td>2023-03-18</td>\n",
       "      <td>09:58:28</td>\n",
       "    </tr>\n",
       "    <tr>\n",
       "      <th>29718</th>\n",
       "      <td>2023-03-18 09:58:48+00:00</td>\n",
       "      <td>29719</td>\n",
       "      <td>19.5625</td>\n",
       "      <td>Saturday</td>\n",
       "      <td>2023-03-18</td>\n",
       "      <td>09:58:48</td>\n",
       "    </tr>\n",
       "    <tr>\n",
       "      <th>29719</th>\n",
       "      <td>2023-03-18 09:59:02+00:00</td>\n",
       "      <td>29720</td>\n",
       "      <td>19.5625</td>\n",
       "      <td>Saturday</td>\n",
       "      <td>2023-03-18</td>\n",
       "      <td>09:59:02</td>\n",
       "    </tr>\n",
       "    <tr>\n",
       "      <th>29720</th>\n",
       "      <td>2023-03-18 09:59:15+00:00</td>\n",
       "      <td>29721</td>\n",
       "      <td>19.5625</td>\n",
       "      <td>Saturday</td>\n",
       "      <td>2023-03-18</td>\n",
       "      <td>09:59:15</td>\n",
       "    </tr>\n",
       "  </tbody>\n",
       "</table>\n",
       "<p>29721 rows × 6 columns</p>\n",
       "</div>"
      ],
      "text/plain": [
       "              Date_Time_Created  Entry_ID  Actual_Temp Days_Of_Week  \\\n",
       "0     2023-03-05 22:45:49+00:00         1      18.5000       Sunday   \n",
       "1     2023-03-05 22:46:05+00:00         2      18.5000       Sunday   \n",
       "2     2023-03-05 22:46:21+00:00         3      18.5000       Sunday   \n",
       "3     2023-03-05 22:46:37+00:00         4      18.5000       Sunday   \n",
       "4     2023-03-05 22:46:53+00:00         5      18.5000       Sunday   \n",
       "...                         ...       ...          ...          ...   \n",
       "29716 2023-03-18 09:58:12+00:00     29717      19.5625     Saturday   \n",
       "29717 2023-03-18 09:58:28+00:00     29718      19.5625     Saturday   \n",
       "29718 2023-03-18 09:58:48+00:00     29719      19.5625     Saturday   \n",
       "29719 2023-03-18 09:59:02+00:00     29720      19.5625     Saturday   \n",
       "29720 2023-03-18 09:59:15+00:00     29721      19.5625     Saturday   \n",
       "\n",
       "             Date      Time  \n",
       "0      2023-03-05  22:45:49  \n",
       "1      2023-03-05  22:46:05  \n",
       "2      2023-03-05  22:46:21  \n",
       "3      2023-03-05  22:46:37  \n",
       "4      2023-03-05  22:46:53  \n",
       "...           ...       ...  \n",
       "29716  2023-03-18  09:58:12  \n",
       "29717  2023-03-18  09:58:28  \n",
       "29718  2023-03-18  09:58:48  \n",
       "29719  2023-03-18  09:59:02  \n",
       "29720  2023-03-18  09:59:15  \n",
       "\n",
       "[29721 rows x 6 columns]"
      ]
     },
     "execution_count": 8,
     "metadata": {},
     "output_type": "execute_result"
    }
   ],
   "source": [
    "# separated date and time from the datetime column(Date_Time_Created)\n",
    "\n",
    "Original_Feeds['Date'] = Original_Feeds['Date_Time_Created'].dt.date\n",
    "Original_Feeds['Time'] = Original_Feeds['Date_Time_Created'].dt.time\n",
    "Original_Feeds"
   ]
  },
  {
   "cell_type": "code",
   "execution_count": 9,
   "id": "ee222cd1",
   "metadata": {
    "scrolled": false
   },
   "outputs": [
    {
     "name": "stdout",
     "output_type": "stream",
     "text": [
      "After Shifting columns\n"
     ]
    },
    {
     "data": {
      "text/html": [
       "<div>\n",
       "<style scoped>\n",
       "    .dataframe tbody tr th:only-of-type {\n",
       "        vertical-align: middle;\n",
       "    }\n",
       "\n",
       "    .dataframe tbody tr th {\n",
       "        vertical-align: top;\n",
       "    }\n",
       "\n",
       "    .dataframe thead th {\n",
       "        text-align: right;\n",
       "    }\n",
       "</style>\n",
       "<table border=\"1\" class=\"dataframe\">\n",
       "  <thead>\n",
       "    <tr style=\"text-align: right;\">\n",
       "      <th></th>\n",
       "      <th>Date_Time_Created</th>\n",
       "      <th>Date</th>\n",
       "      <th>Time</th>\n",
       "      <th>Days_Of_Week</th>\n",
       "      <th>Entry_ID</th>\n",
       "      <th>Actual_Temp</th>\n",
       "    </tr>\n",
       "  </thead>\n",
       "  <tbody>\n",
       "    <tr>\n",
       "      <th>0</th>\n",
       "      <td>2023-03-05 22:45:49+00:00</td>\n",
       "      <td>2023-03-05</td>\n",
       "      <td>22:45:49</td>\n",
       "      <td>Sunday</td>\n",
       "      <td>1</td>\n",
       "      <td>18.5000</td>\n",
       "    </tr>\n",
       "    <tr>\n",
       "      <th>1</th>\n",
       "      <td>2023-03-05 22:46:05+00:00</td>\n",
       "      <td>2023-03-05</td>\n",
       "      <td>22:46:05</td>\n",
       "      <td>Sunday</td>\n",
       "      <td>2</td>\n",
       "      <td>18.5000</td>\n",
       "    </tr>\n",
       "    <tr>\n",
       "      <th>2</th>\n",
       "      <td>2023-03-05 22:46:21+00:00</td>\n",
       "      <td>2023-03-05</td>\n",
       "      <td>22:46:21</td>\n",
       "      <td>Sunday</td>\n",
       "      <td>3</td>\n",
       "      <td>18.5000</td>\n",
       "    </tr>\n",
       "    <tr>\n",
       "      <th>3</th>\n",
       "      <td>2023-03-05 22:46:37+00:00</td>\n",
       "      <td>2023-03-05</td>\n",
       "      <td>22:46:37</td>\n",
       "      <td>Sunday</td>\n",
       "      <td>4</td>\n",
       "      <td>18.5000</td>\n",
       "    </tr>\n",
       "    <tr>\n",
       "      <th>4</th>\n",
       "      <td>2023-03-05 22:46:53+00:00</td>\n",
       "      <td>2023-03-05</td>\n",
       "      <td>22:46:53</td>\n",
       "      <td>Sunday</td>\n",
       "      <td>5</td>\n",
       "      <td>18.5000</td>\n",
       "    </tr>\n",
       "    <tr>\n",
       "      <th>...</th>\n",
       "      <td>...</td>\n",
       "      <td>...</td>\n",
       "      <td>...</td>\n",
       "      <td>...</td>\n",
       "      <td>...</td>\n",
       "      <td>...</td>\n",
       "    </tr>\n",
       "    <tr>\n",
       "      <th>29716</th>\n",
       "      <td>2023-03-18 09:58:12+00:00</td>\n",
       "      <td>2023-03-18</td>\n",
       "      <td>09:58:12</td>\n",
       "      <td>Saturday</td>\n",
       "      <td>29717</td>\n",
       "      <td>19.5625</td>\n",
       "    </tr>\n",
       "    <tr>\n",
       "      <th>29717</th>\n",
       "      <td>2023-03-18 09:58:28+00:00</td>\n",
       "      <td>2023-03-18</td>\n",
       "      <td>09:58:28</td>\n",
       "      <td>Saturday</td>\n",
       "      <td>29718</td>\n",
       "      <td>19.5625</td>\n",
       "    </tr>\n",
       "    <tr>\n",
       "      <th>29718</th>\n",
       "      <td>2023-03-18 09:58:48+00:00</td>\n",
       "      <td>2023-03-18</td>\n",
       "      <td>09:58:48</td>\n",
       "      <td>Saturday</td>\n",
       "      <td>29719</td>\n",
       "      <td>19.5625</td>\n",
       "    </tr>\n",
       "    <tr>\n",
       "      <th>29719</th>\n",
       "      <td>2023-03-18 09:59:02+00:00</td>\n",
       "      <td>2023-03-18</td>\n",
       "      <td>09:59:02</td>\n",
       "      <td>Saturday</td>\n",
       "      <td>29720</td>\n",
       "      <td>19.5625</td>\n",
       "    </tr>\n",
       "    <tr>\n",
       "      <th>29720</th>\n",
       "      <td>2023-03-18 09:59:15+00:00</td>\n",
       "      <td>2023-03-18</td>\n",
       "      <td>09:59:15</td>\n",
       "      <td>Saturday</td>\n",
       "      <td>29721</td>\n",
       "      <td>19.5625</td>\n",
       "    </tr>\n",
       "  </tbody>\n",
       "</table>\n",
       "<p>29721 rows × 6 columns</p>\n",
       "</div>"
      ],
      "text/plain": [
       "              Date_Time_Created        Date      Time Days_Of_Week  Entry_ID  \\\n",
       "0     2023-03-05 22:45:49+00:00  2023-03-05  22:45:49       Sunday         1   \n",
       "1     2023-03-05 22:46:05+00:00  2023-03-05  22:46:05       Sunday         2   \n",
       "2     2023-03-05 22:46:21+00:00  2023-03-05  22:46:21       Sunday         3   \n",
       "3     2023-03-05 22:46:37+00:00  2023-03-05  22:46:37       Sunday         4   \n",
       "4     2023-03-05 22:46:53+00:00  2023-03-05  22:46:53       Sunday         5   \n",
       "...                         ...         ...       ...          ...       ...   \n",
       "29716 2023-03-18 09:58:12+00:00  2023-03-18  09:58:12     Saturday     29717   \n",
       "29717 2023-03-18 09:58:28+00:00  2023-03-18  09:58:28     Saturday     29718   \n",
       "29718 2023-03-18 09:58:48+00:00  2023-03-18  09:58:48     Saturday     29719   \n",
       "29719 2023-03-18 09:59:02+00:00  2023-03-18  09:59:02     Saturday     29720   \n",
       "29720 2023-03-18 09:59:15+00:00  2023-03-18  09:59:15     Saturday     29721   \n",
       "\n",
       "       Actual_Temp  \n",
       "0          18.5000  \n",
       "1          18.5000  \n",
       "2          18.5000  \n",
       "3          18.5000  \n",
       "4          18.5000  \n",
       "...            ...  \n",
       "29716      19.5625  \n",
       "29717      19.5625  \n",
       "29718      19.5625  \n",
       "29719      19.5625  \n",
       "29720      19.5625  \n",
       "\n",
       "[29721 rows x 6 columns]"
      ]
     },
     "execution_count": 9,
     "metadata": {},
     "output_type": "execute_result"
    }
   ],
   "source": [
    "# Shifting columns for a better understanding and view\n",
    "\n",
    "Date_Column = Original_Feeds.pop('Date')\n",
    "Original_Feeds.insert(1,'Date',Date_Column)\n",
    "\n",
    "Time_Column = Original_Feeds.pop('Time')\n",
    "Original_Feeds.insert(2,'Time',Time_Column)\n",
    "\n",
    "Days_Column = Original_Feeds.pop('Days_Of_Week')\n",
    "Original_Feeds.insert(3,'Days_Of_Week',Days_Column)\n",
    "\n",
    "print(\"After Shifting columns\")\n",
    "Original_Feeds"
   ]
  },
  {
   "cell_type": "code",
   "execution_count": 10,
   "id": "dc5a0d0a",
   "metadata": {},
   "outputs": [
    {
     "name": "stdout",
     "output_type": "stream",
     "text": [
      "<class 'pandas.core.frame.DataFrame'>\n",
      "RangeIndex: 29721 entries, 0 to 29720\n",
      "Data columns (total 6 columns):\n",
      " #   Column             Non-Null Count  Dtype              \n",
      "---  ------             --------------  -----              \n",
      " 0   Date_Time_Created  29721 non-null  datetime64[ns, UTC]\n",
      " 1   Date               29721 non-null  object             \n",
      " 2   Time               29721 non-null  object             \n",
      " 3   Days_Of_Week       29721 non-null  object             \n",
      " 4   Entry_ID           29721 non-null  int64              \n",
      " 5   Actual_Temp        29721 non-null  float64            \n",
      "dtypes: datetime64[ns, UTC](1), float64(1), int64(1), object(3)\n",
      "memory usage: 1.4+ MB\n"
     ]
    }
   ],
   "source": [
    "Original_Feeds.info()"
   ]
  },
  {
   "cell_type": "code",
   "execution_count": 11,
   "id": "1ecf3e1f",
   "metadata": {
    "scrolled": true
   },
   "outputs": [
    {
     "data": {
      "text/html": [
       "<div>\n",
       "<style scoped>\n",
       "    .dataframe tbody tr th:only-of-type {\n",
       "        vertical-align: middle;\n",
       "    }\n",
       "\n",
       "    .dataframe tbody tr th {\n",
       "        vertical-align: top;\n",
       "    }\n",
       "\n",
       "    .dataframe thead th {\n",
       "        text-align: right;\n",
       "    }\n",
       "</style>\n",
       "<table border=\"1\" class=\"dataframe\">\n",
       "  <thead>\n",
       "    <tr style=\"text-align: right;\">\n",
       "      <th></th>\n",
       "      <th>Entry_ID</th>\n",
       "      <th>Actual_Temp</th>\n",
       "    </tr>\n",
       "  </thead>\n",
       "  <tbody>\n",
       "    <tr>\n",
       "      <th>Entry_ID</th>\n",
       "      <td>1.000000</td>\n",
       "      <td>0.760822</td>\n",
       "    </tr>\n",
       "    <tr>\n",
       "      <th>Actual_Temp</th>\n",
       "      <td>0.760822</td>\n",
       "      <td>1.000000</td>\n",
       "    </tr>\n",
       "  </tbody>\n",
       "</table>\n",
       "</div>"
      ],
      "text/plain": [
       "             Entry_ID  Actual_Temp\n",
       "Entry_ID     1.000000     0.760822\n",
       "Actual_Temp  0.760822     1.000000"
      ]
     },
     "execution_count": 11,
     "metadata": {},
     "output_type": "execute_result"
    }
   ],
   "source": [
    "Original_Feeds.corr()"
   ]
  },
  {
   "cell_type": "code",
   "execution_count": 12,
   "id": "7a13fba8",
   "metadata": {},
   "outputs": [
    {
     "data": {
      "text/html": [
       "<div>\n",
       "<style scoped>\n",
       "    .dataframe tbody tr th:only-of-type {\n",
       "        vertical-align: middle;\n",
       "    }\n",
       "\n",
       "    .dataframe tbody tr th {\n",
       "        vertical-align: top;\n",
       "    }\n",
       "\n",
       "    .dataframe thead th {\n",
       "        text-align: right;\n",
       "    }\n",
       "</style>\n",
       "<table border=\"1\" class=\"dataframe\">\n",
       "  <thead>\n",
       "    <tr style=\"text-align: right;\">\n",
       "      <th></th>\n",
       "      <th>Actual_Temp</th>\n",
       "    </tr>\n",
       "  </thead>\n",
       "  <tbody>\n",
       "    <tr>\n",
       "      <th>Actual_Temp</th>\n",
       "      <td>1.000000</td>\n",
       "    </tr>\n",
       "    <tr>\n",
       "      <th>Entry_ID</th>\n",
       "      <td>0.760822</td>\n",
       "    </tr>\n",
       "  </tbody>\n",
       "</table>\n",
       "</div>"
      ],
      "text/plain": [
       "             Actual_Temp\n",
       "Actual_Temp     1.000000\n",
       "Entry_ID        0.760822"
      ]
     },
     "execution_count": 12,
     "metadata": {},
     "output_type": "execute_result"
    }
   ],
   "source": [
    "# get the correlation data for the Temperature column\n",
    "\n",
    "Original_Feeds.corr()[['Actual_Temp']].sort_values('Actual_Temp',ascending=False)"
   ]
  },
  {
   "cell_type": "code",
   "execution_count": 13,
   "id": "36b9a9c9",
   "metadata": {},
   "outputs": [
    {
     "data": {
      "text/plain": [
       "<AxesSubplot:>"
      ]
     },
     "execution_count": 13,
     "metadata": {},
     "output_type": "execute_result"
    },
    {
     "data": {
      "image/png": "[encoded data removed]",
      "text/plain": [
       "<Figure size 432x288 with 2 Axes>"
      ]
     },
     "metadata": {
      "needs_background": "light"
     },
     "output_type": "display_data"
    }
   ],
   "source": [
    "# create a heatmap for the correlation data\n",
    "\n",
    "sns.heatmap(data = Original_Feeds.corr(), annot=True, cmap='Set3')"
   ]
  },
  {
   "cell_type": "code",
   "execution_count": 14,
   "id": "cacfb331",
   "metadata": {},
   "outputs": [],
   "source": [
    "# split the training and test data \n",
    "\n",
    "x_train, x_test, y_train, y_test = train_test_split(\n",
    "Original_Feeds[['Entry_ID']],Original_Feeds[['Actual_Temp']])"
   ]
  },
  {
   "cell_type": "code",
   "execution_count": 15,
   "id": "32651c93",
   "metadata": {},
   "outputs": [
    {
     "data": {
      "text/html": [
       "<style>#sk-container-id-1 {color: black;background-color: white;}#sk-container-id-1 pre{padding: 0;}#sk-container-id-1 div.sk-toggleable {background-color: white;}#sk-container-id-1 label.sk-toggleable__label {cursor: pointer;display: block;width: 100%;margin-bottom: 0;padding: 0.3em;box-sizing: border-box;text-align: center;}#sk-container-id-1 label.sk-toggleable__label-arrow:before {content: \"▸\";float: left;margin-right: 0.25em;color: #696969;}#sk-container-id-1 label.sk-toggleable__label-arrow:hover:before {color: black;}#sk-container-id-1 div.sk-estimator:hover label.sk-toggleable__label-arrow:before {color: black;}#sk-container-id-1 div.sk-toggleable__content {max-height: 0;max-width: 0;overflow: hidden;text-align: left;background-color: #f0f8ff;}#sk-container-id-1 div.sk-toggleable__content pre {margin: 0.2em;color: black;border-radius: 0.25em;background-color: #f0f8ff;}#sk-container-id-1 input.sk-toggleable__control:checked~div.sk-toggleable__content {max-height: 200px;max-width: 100%;overflow: auto;}#sk-container-id-1 input.sk-toggleable__control:checked~label.sk-toggleable__label-arrow:before {content: \"▾\";}#sk-container-id-1 div.sk-estimator input.sk-toggleable__control:checked~label.sk-toggleable__label {background-color: #d4ebff;}#sk-container-id-1 div.sk-label input.sk-toggleable__control:checked~label.sk-toggleable__label {background-color: #d4ebff;}#sk-container-id-1 input.sk-hidden--visually {border: 0;clip: rect(1px 1px 1px 1px);clip: rect(1px, 1px, 1px, 1px);height: 1px;margin: -1px;overflow: hidden;padding: 0;position: absolute;width: 1px;}#sk-container-id-1 div.sk-estimator {font-family: monospace;background-color: #f0f8ff;border: 1px dotted black;border-radius: 0.25em;box-sizing: border-box;margin-bottom: 0.5em;}#sk-container-id-1 div.sk-estimator:hover {background-color: #d4ebff;}#sk-container-id-1 div.sk-parallel-item::after {content: \"\";width: 100%;border-bottom: 1px solid gray;flex-grow: 1;}#sk-container-id-1 div.sk-label:hover label.sk-toggleable__label {background-color: #d4ebff;}#sk-container-id-1 div.sk-serial::before {content: \"\";position: absolute;border-left: 1px solid gray;box-sizing: border-box;top: 0;bottom: 0;left: 50%;z-index: 0;}#sk-container-id-1 div.sk-serial {display: flex;flex-direction: column;align-items: center;background-color: white;padding-right: 0.2em;padding-left: 0.2em;position: relative;}#sk-container-id-1 div.sk-item {position: relative;z-index: 1;}#sk-container-id-1 div.sk-parallel {display: flex;align-items: stretch;justify-content: center;background-color: white;position: relative;}#sk-container-id-1 div.sk-item::before, #sk-container-id-1 div.sk-parallel-item::before {content: \"\";position: absolute;border-left: 1px solid gray;box-sizing: border-box;top: 0;bottom: 0;left: 50%;z-index: -1;}#sk-container-id-1 div.sk-parallel-item {display: flex;flex-direction: column;z-index: 1;position: relative;background-color: white;}#sk-container-id-1 div.sk-parallel-item:first-child::after {align-self: flex-end;width: 50%;}#sk-container-id-1 div.sk-parallel-item:last-child::after {align-self: flex-start;width: 50%;}#sk-container-id-1 div.sk-parallel-item:only-child::after {width: 0;}#sk-container-id-1 div.sk-dashed-wrapped {border: 1px dashed gray;margin: 0 0.4em 0.5em 0.4em;box-sizing: border-box;padding-bottom: 0.4em;background-color: white;}#sk-container-id-1 div.sk-label label {font-family: monospace;font-weight: bold;display: inline-block;line-height: 1.2em;}#sk-container-id-1 div.sk-label-container {text-align: center;}#sk-container-id-1 div.sk-container {/* jupyter's `normalize.less` sets `[hidden] { display: none; }` but bootstrap.min.css set `[hidden] { display: none !important; }` so we also need the `!important` here to be able to override the default hidden behavior on the sphinx rendered scikit-learn.org. See: https://github.com/scikit-learn/scikit-learn/issues/21755 */display: inline-block !important;position: relative;}#sk-container-id-1 div.sk-text-repr-fallback {display: none;}</style><div id=\"sk-container-id-1\" class=\"sk-top-container\"><div class=\"sk-text-repr-fallback\"><pre>LinearRegression()</pre><b>In a Jupyter environment, please rerun this cell to show the HTML representation or trust the notebook. <br />On GitHub, the HTML representation is unable to render, please try loading this page with nbviewer.org.</b></div><div class=\"sk-container\" hidden><div class=\"sk-item\"><div class=\"sk-estimator sk-toggleable\"><input class=\"sk-toggleable__control sk-hidden--visually\" id=\"sk-estimator-id-1\" type=\"checkbox\" checked><label for=\"sk-estimator-id-1\" class=\"sk-toggleable__label sk-toggleable__label-arrow\">LinearRegression</label><div class=\"sk-toggleable__content\"><pre>LinearRegression()</pre></div></div></div></div></div>"
      ],
      "text/plain": [
       "LinearRegression()"
      ]
     },
     "execution_count": 15,
     "metadata": {},
     "output_type": "execute_result"
    }
   ],
   "source": [
    "# create the model and fit the training data\n",
    "\n",
    "model = LinearRegression()\n",
    "model.fit(x_train, y_train)"
   ]
  },
  {
   "cell_type": "code",
   "execution_count": 16,
   "id": "5c75e2f9",
   "metadata": {},
   "outputs": [
    {
     "data": {
      "text/plain": [
       "0.5769119417163611"
      ]
     },
     "execution_count": 16,
     "metadata": {},
     "output_type": "execute_result"
    }
   ],
   "source": [
    "# score the testing data\n",
    "\n",
    "model.score(x_test, y_test)"
   ]
  },
  {
   "cell_type": "code",
   "execution_count": 17,
   "id": "a4f1e8e6",
   "metadata": {},
   "outputs": [
    {
     "data": {
      "text/plain": [
       "0.5795033775532998"
      ]
     },
     "execution_count": 17,
     "metadata": {},
     "output_type": "execute_result"
    }
   ],
   "source": [
    "# score the training data\n",
    "\n",
    "model.score(x_train, y_train)"
   ]
  },
  {
   "cell_type": "code",
   "execution_count": 18,
   "id": "513c0860",
   "metadata": {},
   "outputs": [],
   "source": [
    "# make the predictions\n",
    "\n",
    "y_predicted = model.predict(x_test)\n",
    "predicted = pd.DataFrame(y_predicted, columns = ['Predicted_Temp'])"
   ]
  },
  {
   "cell_type": "code",
   "execution_count": 19,
   "id": "ca841abb",
   "metadata": {},
   "outputs": [
    {
     "data": {
      "text/html": [
       "<div>\n",
       "<style scoped>\n",
       "    .dataframe tbody tr th:only-of-type {\n",
       "        vertical-align: middle;\n",
       "    }\n",
       "\n",
       "    .dataframe tbody tr th {\n",
       "        vertical-align: top;\n",
       "    }\n",
       "\n",
       "    .dataframe thead th {\n",
       "        text-align: right;\n",
       "    }\n",
       "</style>\n",
       "<table border=\"1\" class=\"dataframe\">\n",
       "  <thead>\n",
       "    <tr style=\"text-align: right;\">\n",
       "      <th></th>\n",
       "      <th>Predicted_Temp</th>\n",
       "      <th>Entry_ID</th>\n",
       "      <th>Actual_Temp</th>\n",
       "    </tr>\n",
       "  </thead>\n",
       "  <tbody>\n",
       "    <tr>\n",
       "      <th>0</th>\n",
       "      <td>19.212690</td>\n",
       "      <td>20904</td>\n",
       "      <td>19.7500</td>\n",
       "    </tr>\n",
       "    <tr>\n",
       "      <th>1</th>\n",
       "      <td>17.613162</td>\n",
       "      <td>8327</td>\n",
       "      <td>18.0625</td>\n",
       "    </tr>\n",
       "    <tr>\n",
       "      <th>2</th>\n",
       "      <td>16.693787</td>\n",
       "      <td>1098</td>\n",
       "      <td>17.0000</td>\n",
       "    </tr>\n",
       "    <tr>\n",
       "      <th>3</th>\n",
       "      <td>17.330317</td>\n",
       "      <td>6103</td>\n",
       "      <td>17.7500</td>\n",
       "    </tr>\n",
       "    <tr>\n",
       "      <th>4</th>\n",
       "      <td>17.731438</td>\n",
       "      <td>9257</td>\n",
       "      <td>17.4375</td>\n",
       "    </tr>\n",
       "  </tbody>\n",
       "</table>\n",
       "</div>"
      ],
      "text/plain": [
       "   Predicted_Temp  Entry_ID  Actual_Temp\n",
       "0       19.212690     20904      19.7500\n",
       "1       17.613162      8327      18.0625\n",
       "2       16.693787      1098      17.0000\n",
       "3       17.330317      6103      17.7500\n",
       "4       17.731438      9257      17.4375"
      ]
     },
     "execution_count": 19,
     "metadata": {},
     "output_type": "execute_result"
    }
   ],
   "source": [
    "# join the predicted data with the original data\n",
    "\n",
    "Final = predicted.join([x_test.reset_index(drop=True),\n",
    "                        y_test.reset_index(drop=True)])\n",
    "Final.head()"
   ]
  },
  {
   "cell_type": "code",
   "execution_count": 20,
   "id": "aaa12195",
   "metadata": {},
   "outputs": [
    {
     "data": {
      "text/html": [
       "<div>\n",
       "<style scoped>\n",
       "    .dataframe tbody tr th:only-of-type {\n",
       "        vertical-align: middle;\n",
       "    }\n",
       "\n",
       "    .dataframe tbody tr th {\n",
       "        vertical-align: top;\n",
       "    }\n",
       "\n",
       "    .dataframe thead th {\n",
       "        text-align: right;\n",
       "    }\n",
       "</style>\n",
       "<table border=\"1\" class=\"dataframe\">\n",
       "  <thead>\n",
       "    <tr style=\"text-align: right;\">\n",
       "      <th></th>\n",
       "      <th>Predicted_Temp</th>\n",
       "      <th>Entry_ID</th>\n",
       "      <th>Actual_Temp</th>\n",
       "      <th>Residual</th>\n",
       "    </tr>\n",
       "  </thead>\n",
       "  <tbody>\n",
       "    <tr>\n",
       "      <th>0</th>\n",
       "      <td>19.212690</td>\n",
       "      <td>20904</td>\n",
       "      <td>19.7500</td>\n",
       "      <td>0.537310</td>\n",
       "    </tr>\n",
       "    <tr>\n",
       "      <th>1</th>\n",
       "      <td>17.613162</td>\n",
       "      <td>8327</td>\n",
       "      <td>18.0625</td>\n",
       "      <td>0.449338</td>\n",
       "    </tr>\n",
       "    <tr>\n",
       "      <th>2</th>\n",
       "      <td>16.693787</td>\n",
       "      <td>1098</td>\n",
       "      <td>17.0000</td>\n",
       "      <td>0.306213</td>\n",
       "    </tr>\n",
       "    <tr>\n",
       "      <th>3</th>\n",
       "      <td>17.330317</td>\n",
       "      <td>6103</td>\n",
       "      <td>17.7500</td>\n",
       "      <td>0.419683</td>\n",
       "    </tr>\n",
       "    <tr>\n",
       "      <th>4</th>\n",
       "      <td>17.731438</td>\n",
       "      <td>9257</td>\n",
       "      <td>17.4375</td>\n",
       "      <td>-0.293938</td>\n",
       "    </tr>\n",
       "    <tr>\n",
       "      <th>...</th>\n",
       "      <td>...</td>\n",
       "      <td>...</td>\n",
       "      <td>...</td>\n",
       "      <td>...</td>\n",
       "    </tr>\n",
       "    <tr>\n",
       "      <th>7426</th>\n",
       "      <td>19.791353</td>\n",
       "      <td>25454</td>\n",
       "      <td>19.1875</td>\n",
       "      <td>-0.603853</td>\n",
       "    </tr>\n",
       "    <tr>\n",
       "      <th>7427</th>\n",
       "      <td>16.969765</td>\n",
       "      <td>3268</td>\n",
       "      <td>15.0625</td>\n",
       "      <td>-1.907265</td>\n",
       "    </tr>\n",
       "    <tr>\n",
       "      <th>7428</th>\n",
       "      <td>19.090217</td>\n",
       "      <td>19941</td>\n",
       "      <td>20.0000</td>\n",
       "      <td>0.909783</td>\n",
       "    </tr>\n",
       "    <tr>\n",
       "      <th>7429</th>\n",
       "      <td>20.285061</td>\n",
       "      <td>29336</td>\n",
       "      <td>19.6875</td>\n",
       "      <td>-0.597561</td>\n",
       "    </tr>\n",
       "    <tr>\n",
       "      <th>7430</th>\n",
       "      <td>17.229464</td>\n",
       "      <td>5310</td>\n",
       "      <td>16.1875</td>\n",
       "      <td>-1.041964</td>\n",
       "    </tr>\n",
       "  </tbody>\n",
       "</table>\n",
       "<p>7431 rows × 4 columns</p>\n",
       "</div>"
      ],
      "text/plain": [
       "      Predicted_Temp  Entry_ID  Actual_Temp  Residual\n",
       "0          19.212690     20904      19.7500  0.537310\n",
       "1          17.613162      8327      18.0625  0.449338\n",
       "2          16.693787      1098      17.0000  0.306213\n",
       "3          17.330317      6103      17.7500  0.419683\n",
       "4          17.731438      9257      17.4375 -0.293938\n",
       "...              ...       ...          ...       ...\n",
       "7426       19.791353     25454      19.1875 -0.603853\n",
       "7427       16.969765      3268      15.0625 -1.907265\n",
       "7428       19.090217     19941      20.0000  0.909783\n",
       "7429       20.285061     29336      19.6875 -0.597561\n",
       "7430       17.229464      5310      16.1875 -1.041964\n",
       "\n",
       "[7431 rows x 4 columns]"
      ]
     },
     "execution_count": 20,
     "metadata": {},
     "output_type": "execute_result"
    }
   ],
   "source": [
    "# calculate the residuals and store them in a column\n",
    "\n",
    "Final['Residual'] = Final.Actual_Temp - Final.Predicted_Temp\n",
    "Final"
   ]
  },
  {
   "cell_type": "code",
   "execution_count": 21,
   "id": "5c559bf0",
   "metadata": {},
   "outputs": [
    {
     "data": {
      "text/plain": [
       "<AxesSubplot:xlabel='Residual', ylabel='Density'>"
      ]
     },
     "execution_count": 21,
     "metadata": {},
     "output_type": "execute_result"
    },
    {
     "data": {
      "image/png": "[encoded data removed]",
      "text/plain": [
       "<Figure size 432x288 with 1 Axes>"
      ]
     },
     "metadata": {
      "needs_background": "light"
     },
     "output_type": "display_data"
    }
   ],
   "source": [
    "# create a KDE plot for the residuals\n",
    "\n",
    "sns.kdeplot(data=Final, x='Residual')"
   ]
  },
  {
   "cell_type": "code",
   "execution_count": 22,
   "id": "b1e20661",
   "metadata": {},
   "outputs": [
    {
     "name": "stdout",
     "output_type": "stream",
     "text": [
      "<class 'pandas.core.frame.DataFrame'>\n",
      "RangeIndex: 7431 entries, 0 to 7430\n",
      "Data columns (total 4 columns):\n",
      " #   Column          Non-Null Count  Dtype  \n",
      "---  ------          --------------  -----  \n",
      " 0   Predicted_Temp  7431 non-null   float64\n",
      " 1   Entry_ID        7431 non-null   int64  \n",
      " 2   Actual_Temp     7431 non-null   float64\n",
      " 3   Residual        7431 non-null   float64\n",
      "dtypes: float64(3), int64(1)\n",
      "memory usage: 232.3 KB\n"
     ]
    }
   ],
   "source": [
    "Final.info()"
   ]
  },
  {
   "cell_type": "code",
   "execution_count": 23,
   "id": "6167275f",
   "metadata": {
    "scrolled": false
   },
   "outputs": [
    {
     "data": {
      "image/png": "[encoded data removed]",
      "text/plain": [
       "<Figure size 720x360 with 1 Axes>"
      ]
     },
     "metadata": {
      "needs_background": "light"
     },
     "output_type": "display_data"
    }
   ],
   "source": [
    "# Line Plot\n",
    "\n",
    "fig = plt.figure(figsize=(10,5))\n",
    "\n",
    "plt.plot(Final['Actual_Temp'],label='Actual_Temp',color='y')\n",
    "plt.plot(Final['Predicted_Temp'],label='Predicted_Temp',color='r')\n",
    "\n",
    "plt.title('Weather Forecast for SFO')\n",
    "plt.xlabel('Date Index')\n",
    "plt.ylabel('Temperature')\n",
    "plt.legend(bbox_to_anchor=(1.0, 1.0), loc='upper left')\n",
    "plt.show()"
   ]
  },
  {
   "cell_type": "code",
   "execution_count": 24,
   "id": "e2a13264",
   "metadata": {},
   "outputs": [
    {
     "data": {
      "text/plain": [
       "0.5769119417163611"
      ]
     },
     "execution_count": 24,
     "metadata": {},
     "output_type": "execute_result"
    }
   ],
   "source": [
    "# https://towardsdatascience.com/what-are-the-best-metrics-to-evaluate-your-regression-model-418ca481755b\n",
    "# R Square/Adjusted R Square\n",
    "\n",
    "from sklearn.metrics import r2_score\n",
    "\n",
    "r2_score(Final['Actual_Temp'], Final['Predicted_Temp'])"
   ]
  },
  {
   "cell_type": "code",
   "execution_count": 25,
   "id": "22b11ba2",
   "metadata": {},
   "outputs": [
    {
     "name": "stdout",
     "output_type": "stream",
     "text": [
      "MSE: 0.877148629883417\n",
      "RMSE: 0.9365621334879053\n"
     ]
    }
   ],
   "source": [
    "# Mean Square Error(MSE)/Root Mean Square Error(RMSE)\n",
    "\n",
    "from sklearn.metrics import mean_squared_error\n",
    "import math\n",
    "mse = mean_squared_error(Final['Actual_Temp'], Final['Predicted_Temp'])\n",
    "print(f'MSE: {mse}')\n",
    "print(f'RMSE: {math.sqrt(mse)}')"
   ]
  },
  {
   "cell_type": "code",
   "execution_count": 26,
   "id": "4f3a36da",
   "metadata": {},
   "outputs": [
    {
     "name": "stdout",
     "output_type": "stream",
     "text": [
      "MAE: 0.7635186382681641\n"
     ]
    }
   ],
   "source": [
    "# Mean Absolute Error(MAE)\n",
    "\n",
    "from sklearn.metrics import mean_absolute_error\n",
    "\n",
    "mae = mean_absolute_error(Final['Actual_Temp'], Final['Predicted_Temp'])\n",
    "print(f'MAE: {mae}')"
   ]
  },
  {
   "cell_type": "code",
   "execution_count": 27,
   "id": "56d2bd15",
   "metadata": {
    "scrolled": false
   },
   "outputs": [
    {
     "data": {
      "text/html": [
       "<div>\n",
       "<style scoped>\n",
       "    .dataframe tbody tr th:only-of-type {\n",
       "        vertical-align: middle;\n",
       "    }\n",
       "\n",
       "    .dataframe tbody tr th {\n",
       "        vertical-align: top;\n",
       "    }\n",
       "\n",
       "    .dataframe thead th {\n",
       "        text-align: right;\n",
       "    }\n",
       "</style>\n",
       "<table border=\"1\" class=\"dataframe\">\n",
       "  <thead>\n",
       "    <tr style=\"text-align: right;\">\n",
       "      <th></th>\n",
       "      <th>Date_Time_Created</th>\n",
       "      <th>Date</th>\n",
       "      <th>Time</th>\n",
       "      <th>Days_Of_Week</th>\n",
       "      <th>Entry_ID</th>\n",
       "      <th>Actual_Temp</th>\n",
       "    </tr>\n",
       "  </thead>\n",
       "  <tbody>\n",
       "    <tr>\n",
       "      <th>43</th>\n",
       "      <td>2023-03-06 00:04:34+00:00</td>\n",
       "      <td>2023-03-06</td>\n",
       "      <td>00:04:34</td>\n",
       "      <td>Monday</td>\n",
       "      <td>44</td>\n",
       "      <td>19.0625</td>\n",
       "    </tr>\n",
       "    <tr>\n",
       "      <th>44</th>\n",
       "      <td>2023-03-06 00:04:50+00:00</td>\n",
       "      <td>2023-03-06</td>\n",
       "      <td>00:04:50</td>\n",
       "      <td>Monday</td>\n",
       "      <td>45</td>\n",
       "      <td>19.1250</td>\n",
       "    </tr>\n",
       "    <tr>\n",
       "      <th>45</th>\n",
       "      <td>2023-03-06 00:05:06+00:00</td>\n",
       "      <td>2023-03-06</td>\n",
       "      <td>00:05:06</td>\n",
       "      <td>Monday</td>\n",
       "      <td>46</td>\n",
       "      <td>19.1250</td>\n",
       "    </tr>\n",
       "    <tr>\n",
       "      <th>46</th>\n",
       "      <td>2023-03-06 00:05:22+00:00</td>\n",
       "      <td>2023-03-06</td>\n",
       "      <td>00:05:22</td>\n",
       "      <td>Monday</td>\n",
       "      <td>47</td>\n",
       "      <td>19.1250</td>\n",
       "    </tr>\n",
       "    <tr>\n",
       "      <th>47</th>\n",
       "      <td>2023-03-06 00:05:37+00:00</td>\n",
       "      <td>2023-03-06</td>\n",
       "      <td>00:05:37</td>\n",
       "      <td>Monday</td>\n",
       "      <td>48</td>\n",
       "      <td>19.0625</td>\n",
       "    </tr>\n",
       "    <tr>\n",
       "      <th>...</th>\n",
       "      <td>...</td>\n",
       "      <td>...</td>\n",
       "      <td>...</td>\n",
       "      <td>...</td>\n",
       "      <td>...</td>\n",
       "      <td>...</td>\n",
       "    </tr>\n",
       "    <tr>\n",
       "      <th>17513</th>\n",
       "      <td>2023-03-13 23:58:43+00:00</td>\n",
       "      <td>2023-03-13</td>\n",
       "      <td>23:58:43</td>\n",
       "      <td>Monday</td>\n",
       "      <td>17514</td>\n",
       "      <td>20.1250</td>\n",
       "    </tr>\n",
       "    <tr>\n",
       "      <th>17514</th>\n",
       "      <td>2023-03-13 23:58:59+00:00</td>\n",
       "      <td>2023-03-13</td>\n",
       "      <td>23:58:59</td>\n",
       "      <td>Monday</td>\n",
       "      <td>17515</td>\n",
       "      <td>20.0625</td>\n",
       "    </tr>\n",
       "    <tr>\n",
       "      <th>17515</th>\n",
       "      <td>2023-03-13 23:59:15+00:00</td>\n",
       "      <td>2023-03-13</td>\n",
       "      <td>23:59:15</td>\n",
       "      <td>Monday</td>\n",
       "      <td>17516</td>\n",
       "      <td>20.0625</td>\n",
       "    </tr>\n",
       "    <tr>\n",
       "      <th>17516</th>\n",
       "      <td>2023-03-13 23:59:31+00:00</td>\n",
       "      <td>2023-03-13</td>\n",
       "      <td>23:59:31</td>\n",
       "      <td>Monday</td>\n",
       "      <td>17517</td>\n",
       "      <td>20.0625</td>\n",
       "    </tr>\n",
       "    <tr>\n",
       "      <th>17517</th>\n",
       "      <td>2023-03-13 23:59:47+00:00</td>\n",
       "      <td>2023-03-13</td>\n",
       "      <td>23:59:47</td>\n",
       "      <td>Monday</td>\n",
       "      <td>17518</td>\n",
       "      <td>20.0625</td>\n",
       "    </tr>\n",
       "  </tbody>\n",
       "</table>\n",
       "<p>1389 rows × 6 columns</p>\n",
       "</div>"
      ],
      "text/plain": [
       "              Date_Time_Created        Date      Time Days_Of_Week  Entry_ID  \\\n",
       "43    2023-03-06 00:04:34+00:00  2023-03-06  00:04:34       Monday        44   \n",
       "44    2023-03-06 00:04:50+00:00  2023-03-06  00:04:50       Monday        45   \n",
       "45    2023-03-06 00:05:06+00:00  2023-03-06  00:05:06       Monday        46   \n",
       "46    2023-03-06 00:05:22+00:00  2023-03-06  00:05:22       Monday        47   \n",
       "47    2023-03-06 00:05:37+00:00  2023-03-06  00:05:37       Monday        48   \n",
       "...                         ...         ...       ...          ...       ...   \n",
       "17513 2023-03-13 23:58:43+00:00  2023-03-13  23:58:43       Monday     17514   \n",
       "17514 2023-03-13 23:58:59+00:00  2023-03-13  23:58:59       Monday     17515   \n",
       "17515 2023-03-13 23:59:15+00:00  2023-03-13  23:59:15       Monday     17516   \n",
       "17516 2023-03-13 23:59:31+00:00  2023-03-13  23:59:31       Monday     17517   \n",
       "17517 2023-03-13 23:59:47+00:00  2023-03-13  23:59:47       Monday     17518   \n",
       "\n",
       "       Actual_Temp  \n",
       "43         19.0625  \n",
       "44         19.1250  \n",
       "45         19.1250  \n",
       "46         19.1250  \n",
       "47         19.0625  \n",
       "...            ...  \n",
       "17513      20.1250  \n",
       "17514      20.0625  \n",
       "17515      20.0625  \n",
       "17516      20.0625  \n",
       "17517      20.0625  \n",
       "\n",
       "[1389 rows x 6 columns]"
      ]
     },
     "execution_count": 27,
     "metadata": {},
     "output_type": "execute_result"
    }
   ],
   "source": [
    "# To check two day data\n",
    "\n",
    "Data_Per_Day = Original_Feeds.query(\"Days_Of_Week == 'Monday'\")\n",
    "Data_Per_Day"
   ]
  },
  {
   "cell_type": "code",
   "execution_count": 28,
   "id": "451e1537",
   "metadata": {},
   "outputs": [],
   "source": [
    "# split the training and test data \n",
    "\n",
    "x_train, x_test, y_train, y_test = train_test_split(\n",
    "Data_Per_Day[['Entry_ID']],Data_Per_Day[['Actual_Temp']])"
   ]
  },
  {
   "cell_type": "code",
   "execution_count": 29,
   "id": "c9687c4b",
   "metadata": {},
   "outputs": [
    {
     "data": {
      "text/html": [
       "<style>#sk-container-id-2 {color: black;background-color: white;}#sk-container-id-2 pre{padding: 0;}#sk-container-id-2 div.sk-toggleable {background-color: white;}#sk-container-id-2 label.sk-toggleable__label {cursor: pointer;display: block;width: 100%;margin-bottom: 0;padding: 0.3em;box-sizing: border-box;text-align: center;}#sk-container-id-2 label.sk-toggleable__label-arrow:before {content: \"▸\";float: left;margin-right: 0.25em;color: #696969;}#sk-container-id-2 label.sk-toggleable__label-arrow:hover:before {color: black;}#sk-container-id-2 div.sk-estimator:hover label.sk-toggleable__label-arrow:before {color: black;}#sk-container-id-2 div.sk-toggleable__content {max-height: 0;max-width: 0;overflow: hidden;text-align: left;background-color: #f0f8ff;}#sk-container-id-2 div.sk-toggleable__content pre {margin: 0.2em;color: black;border-radius: 0.25em;background-color: #f0f8ff;}#sk-container-id-2 input.sk-toggleable__control:checked~div.sk-toggleable__content {max-height: 200px;max-width: 100%;overflow: auto;}#sk-container-id-2 input.sk-toggleable__control:checked~label.sk-toggleable__label-arrow:before {content: \"▾\";}#sk-container-id-2 div.sk-estimator input.sk-toggleable__control:checked~label.sk-toggleable__label {background-color: #d4ebff;}#sk-container-id-2 div.sk-label input.sk-toggleable__control:checked~label.sk-toggleable__label {background-color: #d4ebff;}#sk-container-id-2 input.sk-hidden--visually {border: 0;clip: rect(1px 1px 1px 1px);clip: rect(1px, 1px, 1px, 1px);height: 1px;margin: -1px;overflow: hidden;padding: 0;position: absolute;width: 1px;}#sk-container-id-2 div.sk-estimator {font-family: monospace;background-color: #f0f8ff;border: 1px dotted black;border-radius: 0.25em;box-sizing: border-box;margin-bottom: 0.5em;}#sk-container-id-2 div.sk-estimator:hover {background-color: #d4ebff;}#sk-container-id-2 div.sk-parallel-item::after {content: \"\";width: 100%;border-bottom: 1px solid gray;flex-grow: 1;}#sk-container-id-2 div.sk-label:hover label.sk-toggleable__label {background-color: #d4ebff;}#sk-container-id-2 div.sk-serial::before {content: \"\";position: absolute;border-left: 1px solid gray;box-sizing: border-box;top: 0;bottom: 0;left: 50%;z-index: 0;}#sk-container-id-2 div.sk-serial {display: flex;flex-direction: column;align-items: center;background-color: white;padding-right: 0.2em;padding-left: 0.2em;position: relative;}#sk-container-id-2 div.sk-item {position: relative;z-index: 1;}#sk-container-id-2 div.sk-parallel {display: flex;align-items: stretch;justify-content: center;background-color: white;position: relative;}#sk-container-id-2 div.sk-item::before, #sk-container-id-2 div.sk-parallel-item::before {content: \"\";position: absolute;border-left: 1px solid gray;box-sizing: border-box;top: 0;bottom: 0;left: 50%;z-index: -1;}#sk-container-id-2 div.sk-parallel-item {display: flex;flex-direction: column;z-index: 1;position: relative;background-color: white;}#sk-container-id-2 div.sk-parallel-item:first-child::after {align-self: flex-end;width: 50%;}#sk-container-id-2 div.sk-parallel-item:last-child::after {align-self: flex-start;width: 50%;}#sk-container-id-2 div.sk-parallel-item:only-child::after {width: 0;}#sk-container-id-2 div.sk-dashed-wrapped {border: 1px dashed gray;margin: 0 0.4em 0.5em 0.4em;box-sizing: border-box;padding-bottom: 0.4em;background-color: white;}#sk-container-id-2 div.sk-label label {font-family: monospace;font-weight: bold;display: inline-block;line-height: 1.2em;}#sk-container-id-2 div.sk-label-container {text-align: center;}#sk-container-id-2 div.sk-container {/* jupyter's `normalize.less` sets `[hidden] { display: none; }` but bootstrap.min.css set `[hidden] { display: none !important; }` so we also need the `!important` here to be able to override the default hidden behavior on the sphinx rendered scikit-learn.org. See: https://github.com/scikit-learn/scikit-learn/issues/21755 */display: inline-block !important;position: relative;}#sk-container-id-2 div.sk-text-repr-fallback {display: none;}</style><div id=\"sk-container-id-2\" class=\"sk-top-container\"><div class=\"sk-text-repr-fallback\"><pre>LinearRegression()</pre><b>In a Jupyter environment, please rerun this cell to show the HTML representation or trust the notebook. <br />On GitHub, the HTML representation is unable to render, please try loading this page with nbviewer.org.</b></div><div class=\"sk-container\" hidden><div class=\"sk-item\"><div class=\"sk-estimator sk-toggleable\"><input class=\"sk-toggleable__control sk-hidden--visually\" id=\"sk-estimator-id-2\" type=\"checkbox\" checked><label for=\"sk-estimator-id-2\" class=\"sk-toggleable__label sk-toggleable__label-arrow\">LinearRegression</label><div class=\"sk-toggleable__content\"><pre>LinearRegression()</pre></div></div></div></div></div>"
      ],
      "text/plain": [
       "LinearRegression()"
      ]
     },
     "execution_count": 29,
     "metadata": {},
     "output_type": "execute_result"
    }
   ],
   "source": [
    "# create the model and fit the training data\n",
    "\n",
    "model = LinearRegression()\n",
    "model.fit(x_train, y_train)"
   ]
  },
  {
   "cell_type": "code",
   "execution_count": 30,
   "id": "9243634c",
   "metadata": {},
   "outputs": [
    {
     "data": {
      "text/plain": [
       "0.6760141337451251"
      ]
     },
     "execution_count": 30,
     "metadata": {},
     "output_type": "execute_result"
    }
   ],
   "source": [
    "# score the testing data\n",
    "\n",
    "model.score(x_test, y_test)"
   ]
  },
  {
   "cell_type": "code",
   "execution_count": 31,
   "id": "e52f6d92",
   "metadata": {},
   "outputs": [
    {
     "data": {
      "text/plain": [
       "0.6105701724746113"
      ]
     },
     "execution_count": 31,
     "metadata": {},
     "output_type": "execute_result"
    }
   ],
   "source": [
    "# score the training data\n",
    "\n",
    "model.score(x_train, y_train)"
   ]
  },
  {
   "cell_type": "code",
   "execution_count": 32,
   "id": "a7b7e6d6",
   "metadata": {},
   "outputs": [],
   "source": [
    "# make the predictions\n",
    "\n",
    "y_predicted = model.predict(x_test)\n",
    "predicted = pd.DataFrame(y_predicted, columns = ['Predicted_Temp'])"
   ]
  },
  {
   "cell_type": "code",
   "execution_count": 33,
   "id": "cf5865e3",
   "metadata": {},
   "outputs": [
    {
     "data": {
      "text/html": [
       "<div>\n",
       "<style scoped>\n",
       "    .dataframe tbody tr th:only-of-type {\n",
       "        vertical-align: middle;\n",
       "    }\n",
       "\n",
       "    .dataframe tbody tr th {\n",
       "        vertical-align: top;\n",
       "    }\n",
       "\n",
       "    .dataframe thead th {\n",
       "        text-align: right;\n",
       "    }\n",
       "</style>\n",
       "<table border=\"1\" class=\"dataframe\">\n",
       "  <thead>\n",
       "    <tr style=\"text-align: right;\">\n",
       "      <th></th>\n",
       "      <th>Predicted_Temp</th>\n",
       "      <th>Entry_ID</th>\n",
       "      <th>Actual_Temp</th>\n",
       "    </tr>\n",
       "  </thead>\n",
       "  <tbody>\n",
       "    <tr>\n",
       "      <th>0</th>\n",
       "      <td>20.050958</td>\n",
       "      <td>16846</td>\n",
       "      <td>20.1250</td>\n",
       "    </tr>\n",
       "    <tr>\n",
       "      <th>1</th>\n",
       "      <td>20.045784</td>\n",
       "      <td>16746</td>\n",
       "      <td>20.0000</td>\n",
       "    </tr>\n",
       "    <tr>\n",
       "      <th>2</th>\n",
       "      <td>20.079000</td>\n",
       "      <td>17388</td>\n",
       "      <td>20.1250</td>\n",
       "    </tr>\n",
       "    <tr>\n",
       "      <th>3</th>\n",
       "      <td>20.033367</td>\n",
       "      <td>16506</td>\n",
       "      <td>19.8125</td>\n",
       "    </tr>\n",
       "    <tr>\n",
       "      <th>4</th>\n",
       "      <td>20.072481</td>\n",
       "      <td>17262</td>\n",
       "      <td>20.1875</td>\n",
       "    </tr>\n",
       "  </tbody>\n",
       "</table>\n",
       "</div>"
      ],
      "text/plain": [
       "   Predicted_Temp  Entry_ID  Actual_Temp\n",
       "0       20.050958     16846      20.1250\n",
       "1       20.045784     16746      20.0000\n",
       "2       20.079000     17388      20.1250\n",
       "3       20.033367     16506      19.8125\n",
       "4       20.072481     17262      20.1875"
      ]
     },
     "execution_count": 33,
     "metadata": {},
     "output_type": "execute_result"
    }
   ],
   "source": [
    "# join the predicted data with the original data\n",
    "\n",
    "Final_Data = predicted.join([x_test.reset_index(drop=True),\n",
    "                        y_test.reset_index(drop=True)])\n",
    "Final_Data.head()"
   ]
  },
  {
   "cell_type": "code",
   "execution_count": 34,
   "id": "5546584c",
   "metadata": {},
   "outputs": [
    {
     "data": {
      "text/html": [
       "<div>\n",
       "<style scoped>\n",
       "    .dataframe tbody tr th:only-of-type {\n",
       "        vertical-align: middle;\n",
       "    }\n",
       "\n",
       "    .dataframe tbody tr th {\n",
       "        vertical-align: top;\n",
       "    }\n",
       "\n",
       "    .dataframe thead th {\n",
       "        text-align: right;\n",
       "    }\n",
       "</style>\n",
       "<table border=\"1\" class=\"dataframe\">\n",
       "  <thead>\n",
       "    <tr style=\"text-align: right;\">\n",
       "      <th></th>\n",
       "      <th>Predicted_Temp</th>\n",
       "      <th>Entry_ID</th>\n",
       "      <th>Actual_Temp</th>\n",
       "      <th>Residual</th>\n",
       "    </tr>\n",
       "  </thead>\n",
       "  <tbody>\n",
       "    <tr>\n",
       "      <th>0</th>\n",
       "      <td>20.050958</td>\n",
       "      <td>16846</td>\n",
       "      <td>20.1250</td>\n",
       "      <td>0.074042</td>\n",
       "    </tr>\n",
       "    <tr>\n",
       "      <th>1</th>\n",
       "      <td>20.045784</td>\n",
       "      <td>16746</td>\n",
       "      <td>20.0000</td>\n",
       "      <td>-0.045784</td>\n",
       "    </tr>\n",
       "    <tr>\n",
       "      <th>2</th>\n",
       "      <td>20.079000</td>\n",
       "      <td>17388</td>\n",
       "      <td>20.1250</td>\n",
       "      <td>0.046000</td>\n",
       "    </tr>\n",
       "    <tr>\n",
       "      <th>3</th>\n",
       "      <td>20.033367</td>\n",
       "      <td>16506</td>\n",
       "      <td>19.8125</td>\n",
       "      <td>-0.220867</td>\n",
       "    </tr>\n",
       "    <tr>\n",
       "      <th>4</th>\n",
       "      <td>20.072481</td>\n",
       "      <td>17262</td>\n",
       "      <td>20.1875</td>\n",
       "      <td>0.115019</td>\n",
       "    </tr>\n",
       "  </tbody>\n",
       "</table>\n",
       "</div>"
      ],
      "text/plain": [
       "   Predicted_Temp  Entry_ID  Actual_Temp  Residual\n",
       "0       20.050958     16846      20.1250  0.074042\n",
       "1       20.045784     16746      20.0000 -0.045784\n",
       "2       20.079000     17388      20.1250  0.046000\n",
       "3       20.033367     16506      19.8125 -0.220867\n",
       "4       20.072481     17262      20.1875  0.115019"
      ]
     },
     "execution_count": 34,
     "metadata": {},
     "output_type": "execute_result"
    }
   ],
   "source": [
    "# calculate the residuals and store them in a column\n",
    "\n",
    "Final_Data['Residual'] = Final_Data.Actual_Temp - Final_Data.Predicted_Temp\n",
    "Final_Data.head()"
   ]
  },
  {
   "cell_type": "code",
   "execution_count": 35,
   "id": "8e3b172f",
   "metadata": {},
   "outputs": [
    {
     "data": {
      "text/plain": [
       "<AxesSubplot:xlabel='Residual', ylabel='Density'>"
      ]
     },
     "execution_count": 35,
     "metadata": {},
     "output_type": "execute_result"
    },
    {
     "data": {
      "image/png": "[encoded data removed]",
      "text/plain": [
       "<Figure size 432x288 with 1 Axes>"
      ]
     },
     "metadata": {
      "needs_background": "light"
     },
     "output_type": "display_data"
    }
   ],
   "source": [
    "# create a KDE plot for the residuals\n",
    "\n",
    "sns.kdeplot(data=Final_Data, x='Residual')"
   ]
  },
  {
   "cell_type": "code",
   "execution_count": 36,
   "id": "0145e5fb",
   "metadata": {},
   "outputs": [
    {
     "data": {
      "image/png": "[encoded data removed]",
      "text/plain": [
       "<Figure size 720x360 with 1 Axes>"
      ]
     },
     "metadata": {
      "needs_background": "light"
     },
     "output_type": "display_data"
    }
   ],
   "source": [
    "# Line Plot\n",
    "\n",
    "fig = plt.figure(figsize=(10,5))\n",
    "\n",
    "plt.plot(Final_Data['Actual_Temp'],label='Actual_Temp',color='y')\n",
    "plt.plot(Final_Data['Predicted_Temp'],label='Predicted_Temp',color='r')\n",
    "\n",
    "plt.title('Weather Forecast for SFO')\n",
    "plt.xlabel('Date Index')\n",
    "plt.ylabel('Temperature')\n",
    "plt.legend(bbox_to_anchor=(1.0, 1.0), loc='upper left')\n",
    "plt.show()"
   ]
  },
  {
   "cell_type": "code",
   "execution_count": null,
   "id": "01486442",
   "metadata": {},
   "outputs": [],
   "source": []
  }
 ],
 "metadata": {
  "kernelspec": {
   "display_name": "Python 3 (ipykernel)",
   "language": "python",
   "name": "python3"
  },
  "language_info": {
   "codemirror_mode": {
    "name": "ipython",
    "version": 3
   },
   "file_extension": ".py",
   "mimetype": "text/x-python",
   "name": "python",
   "nbconvert_exporter": "python",
   "pygments_lexer": "ipython3",
   "version": "3.9.7"
  }
 },
 "nbformat": 4,
 "nbformat_minor": 5
}
